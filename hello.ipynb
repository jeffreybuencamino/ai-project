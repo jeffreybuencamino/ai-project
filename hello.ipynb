{
 "cells": [
  {
   "cell_type": "markdown",
   "id": "068955d7",
   "metadata": {},
   "source": [
    "# This is how to load OPENAI_API_KEY into .py file for use"
   ]
  },
  {
   "cell_type": "code",
   "execution_count": 3,
   "id": "5cd1c48d",
   "metadata": {},
   "outputs": [],
   "source": [
    "import os\n",
    "from dotenv import load_dotenv\n",
    "\n",
    "load_dotenv()\n",
    "\n",
    "api_key = os.environ.get(\"OPENAI_API_KEY\")\n",
    "\n",
    "if not api_key:\n",
    "    raise ValueError(\"OPEN_API_KEY is not set int the environment variables\")"
   ]
  },
  {
   "cell_type": "markdown",
   "id": "0fed54f7",
   "metadata": {},
   "source": [
    "# Hello WOrld\n",
    "### Going over how to create an agent, and run an agent"
   ]
  },
  {
   "cell_type": "code",
   "execution_count": 1,
   "id": "ad63cc21",
   "metadata": {},
   "outputs": [
    {
     "data": {
      "text/plain": [
       "\"HELLO! I'M DOING GREAT, THANK YOU! HOW ABOUT YOU?\""
      ]
     },
     "execution_count": 1,
     "metadata": {},
     "output_type": "execute_result"
    }
   ],
   "source": [
    "from agents import Agent, Runner\n",
    "\n",
    "agent = Agent(\n",
    "    name=\"Basic Agent\",\n",
    "    instructions=\"You are a helpful assistant. Respond only in all caps.\",\n",
    "    model=\"gpt-4o-mini\"\n",
    ")\n",
    "# ==== RUnning the agent or \"invoking\" it so we get a response ===\n",
    "result = await Runner.run(agent, \"Hello! How are you?\")\n",
    "result.final_output"
   ]
  },
  {
   "cell_type": "markdown",
   "id": "d6222a56",
   "metadata": {},
   "source": []
  },
  {
   "cell_type": "markdown",
   "id": "d6550628",
   "metadata": {},
   "source": [
    "# Making an agent functional:"
   ]
  },
  {
   "cell_type": "code",
   "execution_count": 7,
   "id": "8eae7fa3",
   "metadata": {},
   "outputs": [
    {
     "data": {
      "text/plain": [
       "'Why did the booger break up with the tissue?\\n\\nBecause it found someone more snot-compatible!'"
      ]
     },
     "execution_count": 7,
     "metadata": {},
     "output_type": "execute_result"
    }
   ],
   "source": [
    "joke_agent = Agent(\n",
    "    name=\"Joke Agent\",\n",
    "    instructions=\"You are a joke teller. You are given a topic and you need to tell a joke about it.\",\n",
    "    model=\"gpt-4o-mini\"\n",
    ")\n",
    "\n",
    "topic = \"Boogers\"\n",
    "\n",
    "result = await Runner.run(joke_agent, topic)\n",
    "result.final_output"
   ]
  },
  {
   "cell_type": "markdown",
   "id": "1ff8ef7d",
   "metadata": {},
   "source": [
    "# Second agent that takes joke output and translates it to another language"
   ]
  },
  {
   "cell_type": "code",
   "execution_count": 21,
   "id": "fd71d862",
   "metadata": {},
   "outputs": [
    {
     "name": "stdout",
     "output_type": "stream",
     "text": [
      "Joke: Why did the booger go to the party?\n",
      "\n",
      "Because it heard it would be a real snot-fest!\n",
      "\n",
      "\n",
      "Language Result: ¿Por qué fue el moco a la fiesta?\n",
      "\n",
      "¡Porque escuchó que sería un verdadero festival de mocos!\n"
     ]
    }
   ],
   "source": [
    "language_agent = Agent(\n",
    "    name=\"Language Agent\",\n",
    "    instructions=\"You are a language translator. Youre job is to translate the language to a users query.\",\n",
    "    model=\"gpt-4o-mini\"\n",
    ")\n",
    "\n",
    "joke_result = await Runner.run(joke_agent, topic)\n",
    "language_result = await Runner.run(language_agent, f'Translate this text into Spanish: {joke_result.final_output}')\n",
    "print(f\"Joke: {joke_result.final_output}\")\n",
    "print(f'\\n\\nLanguage Result: {language_result.final_output}')\n"
   ]
  },
  {
   "cell_type": "markdown",
   "id": "226d1853",
   "metadata": {},
   "source": [
    "# Structured Output\n",
    "\n",
    "Structured outputs are a way to format the output that the LLM gives us in a structured manner (Like a JSON object). \n",
    "\n",
    "This can be useful for tasks that require specific formatting or data extraction."
   ]
  },
  {
   "cell_type": "markdown",
   "id": "519f7270",
   "metadata": {},
   "source": [
    "Create a class and give it in the parameters: BaseModel , and then output_type= "
   ]
  },
  {
   "cell_type": "code",
   "execution_count": 4,
   "id": "1011b9b7",
   "metadata": {},
   "outputs": [
    {
     "name": "stdout",
     "output_type": "stream",
     "text": [
      "title='Italian Sausage with Spaghetti' ingredients=['12 oz (340g) spaghetti', '1 lb (450g) Italian sausage, casings removed', '2 tablespoons olive oil', '1 onion, finely chopped', '3 cloves garlic, minced', '1 can (14 oz) crushed tomatoes', '1 tablespoon tomato paste', '1 teaspoon dried oregano', '1 teaspoon dried basil', 'Salt and pepper to taste', '1/4 cup grated Parmesan cheese', 'Fresh basil leaves for garnish'] cooking_time=30 servings=4\n"
     ]
    }
   ],
   "source": [
    "from pydantic import BaseModel\n",
    "from agents import Agent, Runner\n",
    "\n",
    "class Recipe(BaseModel):\n",
    "    title: str\n",
    "    ingredients: list[str]\n",
    "    cooking_time: int  # in minutes\n",
    "    servings: int\n",
    "\n",
    "recipe_agent = Agent(\n",
    "    name=\"Recipe Agent\",\n",
    "    instructions=\"You are an agent for creating recipes. You will be given the name of a food and your job is to output that as an actual detailed recipe. The cooking time should be in minutes.\",\n",
    "    output_type=Recipe\n",
    ")\n",
    "\n",
    "response = await Runner.run(recipe_agent, \"Italian Sausage with Spaghetti\")\n",
    "recipe = response.final_output\n",
    "print(recipe)\n"
   ]
  },
  {
   "cell_type": "markdown",
   "id": "856603ed",
   "metadata": {},
   "source": [
    "# Tool Calling"
   ]
  },
  {
   "cell_type": "code",
   "execution_count": 50,
   "id": "6eb0c8bf",
   "metadata": {},
   "outputs": [
    {
     "name": "stdout",
     "output_type": "stream",
     "text": [
      "Getting weather for Dallas\n",
      "Getting temperature for Dallas\n"
     ]
    },
    {
     "data": {
      "text/plain": [
       "'The weather in Dallas is sunny, with a temperature of 70 degrees.'"
      ]
     },
     "execution_count": 50,
     "metadata": {},
     "output_type": "execute_result"
    }
   ],
   "source": [
    "from agents import function_tool\n",
    "\n",
    "@function_tool\n",
    "def get_weather(city: str) -> str:\n",
    "    print(f'Getting weather for {city}')\n",
    "    return f\"The weather in {city} is sunny\"\n",
    "\n",
    "@function_tool\n",
    "def get_temperature(city: str) -> str:\n",
    "    print(f\"Getting temperature for {city}\")\n",
    "    return f'70 degrees'\n",
    "\n",
    "agent = Agent(\n",
    "    name=\"Weather Agent\",\n",
    "    instructions=\"You are the local weather agent. You are given a city and you need to tell the weather and temperature.\",\n",
    "    tools=[get_weather, get_temperature]\n",
    ")\n",
    "\n",
    "result = await Runner.run(agent, \"what is the weather and temperature for Dallas?\")\n",
    "result.final_output"
   ]
  },
  {
   "cell_type": "markdown",
   "id": "62f205f2",
   "metadata": {},
   "source": [
    "## Built in tools from OpenAI-Agents SDK \n",
    "one of them is WebSearchTool"
   ]
  },
  {
   "cell_type": "code",
   "execution_count": 57,
   "id": "91c8e9a5",
   "metadata": {},
   "outputs": [
    {
     "name": "stdout",
     "output_type": "stream",
     "text": [
      "Here are the latest developments involving President Donald Trump:\n",
      "\n",
      "**Visit to Texas Flood Zone**\n",
      "\n",
      "On July 11, 2025, President Trump visited Kerr County, Texas, the site of a catastrophic flash flood that claimed at least 120 lives on July 4. He defended the federal and state disaster response efforts, praising Texas Governor Greg Abbott and Homeland Security Secretary Kristi Noem. Critics have raised concerns about the lack of early warning systems and federal budget cuts that may have exacerbated the disaster's impact. ([reuters.com](https://www.reuters.com/sustainability/climate-energy/trump-visit-texas-flood-site-amid-questions-about-disaster-response-2025-07-11/?utm_source=openai))\n",
      "\n",
      "**Trade Tariffs Announcement**\n",
      "\n",
      "President Trump has reignited trade tensions by threatening new tariffs ranging from 25% to 50% on imports from nearly two dozen countries, including South Korea, Japan, Canada, Bangladesh, and Brazil, unless they agree to bilateral trade deals. These measures, set to begin in August 2025, have caused significant uncertainty for businesses, with analysts predicting a rise in consumer prices, particularly for clothing and footwear. ([theatlantic.com](https://www.theatlantic.com/economy/archive/2025/07/trump-tariffs-trade-war-ongoing/683476/?utm_source=openai))\n",
      "\n",
      "**Immigration Enforcement Halted in California**\n",
      "\n",
      "A federal judge has ordered the Trump administration to cease indiscriminate immigration enforcement actions in seven California counties, including Los Angeles. The ruling responds to allegations of racially discriminatory raids targeting Latinos and mandates improved access to legal counsel for detainees. The White House criticized the decision as judicial overreach. ([apnews.com](https://apnews.com/article/b4d59afc4aa6be4944e67f773aa34096?utm_source=openai))\n",
      "\n",
      "**Birthright Citizenship Controversy**\n",
      "\n",
      "President Trump's attempts to undermine birthright citizenship through executive orders have been met with legal challenges. A recent federal court halted a directive denying citizenship to children born to non-citizens, allowing a class-action lawsuit to proceed. Critics argue that these efforts threaten the constitutional guarantee of unconditional birthright citizenship. ([time.com](https://time.com/7301861/birthright-citizenship-americanness-thread/?utm_source=openai))\n",
      "\n",
      "**Copper Tariffs and Market Impact**\n",
      "\n",
      "The announcement of a 50% tariff on copper imports, effective August 1, 2025, aims to revitalize the domestic copper industry. This has led to a surge in copper prices and stockpiling by U.S. buyers. However, challenges such as limited smelting capacity and stalled mining projects may hinder rapid expansion of domestic production. ([cincodias.elpais.com](https://cincodias.elpais.com/mercados-financieros/2025-07-11/claves-de-los-aranceles-de-trump-al-cobre-por-que-hay-tanta-demanda-que-pretende-ee-uu.html?utm_source=openai))\n",
      "\n",
      "**Anticipated Statement on Russia**\n",
      "\n",
      "The Kremlin is awaiting a \"major statement\" from President Trump regarding Russia, scheduled for Monday. In a recent interview, Trump expressed disappointment with President Vladimir Putin and suggested potential changes in U.S. policy if it is determined that Russia has been deceptive. This comes amid ongoing conflicts involving Russia and Ukraine, as well as new NATO weapon deliveries to Ukraine. ([aftenposten.no](https://www.aftenposten.no/i/wglnRd?utm_source=openai))\n",
      "\n",
      "\n",
      "## Recent News on President Donald Trump:\n",
      "- [Trump visits Texas flood zone, defends government's disaster response](https://www.reuters.com/sustainability/climate-energy/trump-visit-texas-flood-site-amid-questions-about-disaster-response-2025-07-11/?utm_source=openai)\n",
      "- [Start Budgeting Now](https://www.theatlantic.com/economy/archive/2025/07/trump-tariffs-trade-war-ongoing/683476/?utm_source=openai)\n",
      "- [Judge orders Trump administration to halt indiscriminate immigration stops, arrests in California](https://apnews.com/article/b4d59afc4aa6be4944e67f773aa34096?utm_source=openai) "
     ]
    }
   ],
   "source": [
    "from openai.types.responses import ResponseTextDeltaEvent\n",
    "from agents import WebSearchTool\n",
    "\n",
    "news_agent = Agent(\n",
    "    name=\"News Reporter\",\n",
    "    instructions=\"You a re a news reporter. Your job is to find recent news articles on the internet about US politics.\",\n",
    "    tools=[WebSearchTool()]\n",
    ")\n",
    "\n",
    "result = Runner.run_streamed(news_agent, input=\"find most recent news about Trump.\")\n",
    "async for event in result.stream_events():\n",
    "    if event.type == \"raw_response_event\" and isinstance(event.data, ResponseTextDeltaEvent):\n",
    "        print(event.data.delta, end=\"\", flush=True)"
   ]
  },
  {
   "cell_type": "markdown",
   "id": "cdf4f0e9",
   "metadata": {},
   "source": [
    "# Handoffs\n"
   ]
  },
  {
   "cell_type": "code",
   "execution_count": null,
   "id": "1930fb6e",
   "metadata": {},
   "outputs": [
    {
     "name": "stdout",
     "output_type": "stream",
     "text": [
      "## Tutorial Outline: Understanding Classes in Python - Using `__init__` and `self`\n",
      "\n",
      "### Introduction\n",
      "- Brief introduction to Object-Oriented Programming (OOP)\n",
      "- Importance of classes in Python\n",
      "\n",
      "### Section 1: What is a Class?\n",
      "- Definition of a class\n",
      "- Basic syntax in Python with examples\n",
      "- Difference between classes and objects\n",
      "\n",
      "### Section 2: Creating a Simple Class\n",
      "- Step-by-step guide to creating a basic class\n",
      "- Example code with description\n",
      "- Explanation of class attributes and methods\n",
      "\n",
      "### Section 3: Understanding the `__init__` Method\n",
      "- Purpose of the `__init__` method in class initialization\n",
      "- Syntax and use cases\n",
      "- How `__init__` differs from other methods\n",
      "\n",
      "#### Subsection: Practical Example\n",
      "- Create a class using the `__init__` method\n",
      "- Example with parameters: initializing object attributes\n",
      "- Discuss different scenarios and variations\n",
      "\n",
      "### Section 4: Exploring the `self` Keyword\n",
      "- What is `self`, and why do we use it?\n",
      "- Role of `self` in method definitions and object state\n",
      "- Common mistakes with `self` and how to avoid them\n",
      "\n",
      "#### Subsection: Practical Example\n",
      "- Implement a class that uses `self` in multiple methods\n",
      "- Demonstrate the difference between object vs. class-level access\n",
      "\n",
      "### Section 5: Putting It All Together\n",
      "- Example of a comprehensive class combining `__init__` and `self`\n",
      "- Real-world scenario and application\n",
      "\n",
      "### Section 6: Advanced Concepts (Optional)\n",
      "- Inheritance and how it interacts with `__init__`\n",
      "- Overriding methods and using `super()`\n",
      "\n",
      "### Conclusion\n",
      "- Recap of key points \n",
      "- Best practices for using `__init__` and `self` in Python\n",
      "- Further resources for learning\n",
      "\n",
      "### Exercises\n",
      "- Hands-on exercises to reinforce learning\n",
      "  - Create your own class with attributes and methods\n",
      "  - Modify the `__init__` method and observe the impact\n",
      "  - Practice using `self` in various scenarios\n",
      "\n",
      "### Additional Resources\n",
      "- Links to Python documentation\n",
      "- Recommended books and online tutorials\n",
      "\n",
      "\n"
     ]
    }
   ],
   "source": [
    "from agents import Agent, Runner\n",
    "from pydantic import BaseModel\n",
    "\n",
    "class Tutorial(BaseModel):\n",
    "    outline: str\n",
    "    tutorial: str\n",
    "\n",
    "\n",
    "tutorial_generator = Agent(\n",
    "    name=\"Tutorial Generator\",\n",
    "    handoff_description=\"Used for generating a tutorial based on an outline.\",\n",
    "    instructions=(\n",
    "        \"Given a programming topic and an outline, your job is to generate code snippets for each section of the outline.\"\n",
    "        \"Format the tutorial in Markdown using a mix of text for explanation and code snippets for examples.\"\n",
    "        \"Where it makes sense, include comments in the code snippets to further explain the code.\"\n",
    "    )\n",
    ")\n",
    "\n",
    "outline_builder = Agent(\n",
    "    name=\"Outline Builder\",\n",
    "    instructions=(\n",
    "        \"Given a programming topic, your job is to help come up with a tutorial. You will do that by crafting an outline.\"\n",
    "        \"After making the outline, hand it to the tutorial generator agent.\"\n",
    "    ),\n",
    "    handoffs=[tutorial_generator]\n",
    ")\n",
    "\n",
    "tutorial_response = await Runner.run(outline_builder, \"class in Python and how to use __init__ and self in classes\")\n",
    "\n",
    "print(tutorial_response.final_output)"
   ]
  },
  {
   "cell_type": "code",
   "execution_count": null,
   "id": "a4215d21",
   "metadata": {},
   "outputs": [],
   "source": []
  }
 ],
 "metadata": {
  "kernelspec": {
   "display_name": ".venv",
   "language": "python",
   "name": "python3"
  },
  "language_info": {
   "codemirror_mode": {
    "name": "ipython",
    "version": 3
   },
   "file_extension": ".py",
   "mimetype": "text/x-python",
   "name": "python",
   "nbconvert_exporter": "python",
   "pygments_lexer": "ipython3",
   "version": "3.13.5"
  }
 },
 "nbformat": 4,
 "nbformat_minor": 5
}
